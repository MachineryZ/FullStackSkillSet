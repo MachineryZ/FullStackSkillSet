{
 "cells": [
  {
   "cell_type": "markdown",
   "metadata": {},
   "source": [
    "Joyfull Pandas"
   ]
  },
  {
   "cell_type": "code",
   "execution_count": 2,
   "metadata": {},
   "outputs": [],
   "source": [
    "import pandas\n",
    "import numpy as np"
   ]
  },
  {
   "cell_type": "code",
   "execution_count": 4,
   "metadata": {},
   "outputs": [
    {
     "name": "stdout",
     "output_type": "stream",
     "text": [
      "True\n"
     ]
    }
   ],
   "source": [
    "# Matrix Multiplication\n",
    "# 1.3.1\n",
    "a, b, c = 10, 10, 10\n",
    "M1 = np.random.randn(a, b)\n",
    "M2 = np.random.randn(b, c)\n",
    "\n",
    "res = [[sum([M1[i][k] * M2[k][j] for k in range(M1.shape[1])]) for j in range(M2.shape[1])] for i in range(M1.shape[0])]\n",
    "print((np.abs(M1@M2 - res) < 1e-15).all())"
   ]
  },
  {
   "cell_type": "code",
   "execution_count": 12,
   "metadata": {},
   "outputs": [
    {
     "name": "stdout",
     "output_type": "stream",
     "text": [
      "[[0.16666667 0.33333333 0.5       ]\n",
      " [0.26666667 0.33333333 0.4       ]\n",
      " [0.26086957 0.34782609 0.39130435]]\n",
      "True\n"
     ]
    }
   ],
   "source": [
    "# 1.3.2\n",
    "# Update Matrix\n",
    "A = np.array([\n",
    "    [1, 2, 3],\n",
    "    [4, 5, 6],\n",
    "    [6, 8, 9]\n",
    "])\n",
    "# B_ij = Aij / sum(Aik)\n",
    "B_gt = np.array([\n",
    "    [1/6, 2/6, 3/6],\n",
    "    [4/15, 5/15, 6/15],\n",
    "    [6/23, 8/23, 9/23]\n",
    "])\n",
    "B = A/np.sum(A,axis=1,keepdims=True)\n",
    "print((np.abs(B - B_gt) < 1e-15).all())"
   ]
  },
  {
   "cell_type": "code",
   "execution_count": 24,
   "metadata": {},
   "outputs": [
    {
     "name": "stdout",
     "output_type": "stream",
     "text": [
      "11.842696601945802\n"
     ]
    }
   ],
   "source": [
    "# 1.3.3\n",
    "# ChiSquare statiscts\n",
    "np.random.seed(0)\n",
    "A = np.random.randint(10, 20, (8, 5))\n",
    "B = np.sum(A, axis=0, keepdims=True) * np.sum(A, axis=1, keepdims=True)/np.sum(A)\n",
    "print(np.sum((A - B)**2/B))\n",
    "np.random.seed(None)    "
   ]
  },
  {
   "cell_type": "code",
   "execution_count": 27,
   "metadata": {},
   "outputs": [
    {
     "name": "stdout",
     "output_type": "stream",
     "text": [
      "15.9 ms ± 210 µs per loop (mean ± std. dev. of 7 runs, 30 loops each)\n",
      "167 µs ± 4.59 µs per loop (mean ± std. dev. of 7 runs, 30 loops each)\n"
     ]
    }
   ],
   "source": [
    "# 1.3.4\n",
    "# Optimize Matrix Computation\n",
    "np.random.seed(0)\n",
    "m, n, p = 100, 80, 50\n",
    "B = np.random.randint(0, 2, (m, p))\n",
    "U = np.random.randint(0, 2, (p, n))\n",
    "Z = np.random.randint(0, 2, (m, n))\n",
    "def solution(B=B, U=U, Z=Z):\n",
    "    L_res = []\n",
    "    for i in range(m):\n",
    "        for j in range(n):\n",
    "            norm_value = ((B[i]-U[:,j])**2).sum()\n",
    "            L_res.append(norm_value*Z[i][j])\n",
    "    return sum(L_res)\n",
    "%timeit -n 30 solution(B, U, Z)\n",
    "def solution(B=B, U=U, Z=Z):\n",
    "    return (((B**2).sum(1).reshape(-1,1) + (U**2).sum(0) - 2*B@U)*Z).sum()\n",
    "%timeit -n 30 solution(B, U, Z)"
   ]
  },
  {
   "cell_type": "code",
   "execution_count": 10,
   "metadata": {},
   "outputs": [],
   "source": [
    "# 1.3.5\n",
    "# Longest Continuous Increasing subArray\n",
    "a = np.array([3, 2, 1, 2, 3, 4, 6])\n",
    "# Use np.diff to calculate the diff:\n",
    "dif = np.r_[1, np.diff(a)!=1, 1]\n",
    "# select nonzero part (cotinuous integer part) using index\n",
    "nonzero = np.nonzero(dif)\n",
    "# select maximum part\n",
    "ret = np.diff(nonzero).max()\n",
    "# print(dif)\n",
    "# print(nonzero)\n",
    "# print(ret)"
   ]
  },
  {
   "cell_type": "markdown",
   "metadata": {},
   "source": [
    "Exercise 2"
   ]
  },
  {
   "cell_type": "code",
   "execution_count": 78,
   "metadata": {},
   "outputs": [
    {
     "name": "stdout",
     "output_type": "stream",
     "text": [
      "1.1: True\n",
      "2.a.1: Unique Type 1 ['Grass' 'Fire' 'Water' 'Bug' 'Normal' 'Poison' 'Electric' 'Ground'\n",
      " 'Fairy' 'Fighting' 'Psychic' 'Rock' 'Ghost' 'Ice' 'Dragon' 'Dark' 'Steel'\n",
      " 'Flying']\n",
      "2.a.2: Top3 Unique Type 1 Index(['Water', 'Normal', 'Grass'], dtype='object')\n",
      "2.b: Type1 and Type2 Combination 154\n",
      "2.c: 170\n"
     ]
    },
    {
     "data": {
      "text/html": [
       "<div>\n",
       "<style scoped>\n",
       "    .dataframe tbody tr th:only-of-type {\n",
       "        vertical-align: middle;\n",
       "    }\n",
       "\n",
       "    .dataframe tbody tr th {\n",
       "        vertical-align: top;\n",
       "    }\n",
       "\n",
       "    .dataframe thead th {\n",
       "        text-align: right;\n",
       "    }\n",
       "</style>\n",
       "<table border=\"1\" class=\"dataframe\">\n",
       "  <thead>\n",
       "    <tr style=\"text-align: right;\">\n",
       "      <th></th>\n",
       "      <th>#</th>\n",
       "      <th>Name</th>\n",
       "      <th>Type 1</th>\n",
       "      <th>Type 2</th>\n",
       "      <th>Total</th>\n",
       "      <th>HP</th>\n",
       "      <th>Attack</th>\n",
       "      <th>Defense</th>\n",
       "      <th>Sp. Atk</th>\n",
       "      <th>Sp. Def</th>\n",
       "      <th>Speed</th>\n",
       "      <th>Deviation</th>\n",
       "    </tr>\n",
       "  </thead>\n",
       "  <tbody>\n",
       "    <tr>\n",
       "      <th>230</th>\n",
       "      <td>213</td>\n",
       "      <td>Shuckle</td>\n",
       "      <td>Bug</td>\n",
       "      <td>Rock</td>\n",
       "      <td>505</td>\n",
       "      <td>20</td>\n",
       "      <td>10</td>\n",
       "      <td>230</td>\n",
       "      <td>10</td>\n",
       "      <td>230</td>\n",
       "      <td>5</td>\n",
       "      <td>215.0</td>\n",
       "    </tr>\n",
       "    <tr>\n",
       "      <th>121</th>\n",
       "      <td>113</td>\n",
       "      <td>Chansey</td>\n",
       "      <td>Normal</td>\n",
       "      <td>NaN</td>\n",
       "      <td>450</td>\n",
       "      <td>250</td>\n",
       "      <td>5</td>\n",
       "      <td>5</td>\n",
       "      <td>35</td>\n",
       "      <td>105</td>\n",
       "      <td>50</td>\n",
       "      <td>207.5</td>\n",
       "    </tr>\n",
       "    <tr>\n",
       "      <th>261</th>\n",
       "      <td>242</td>\n",
       "      <td>Blissey</td>\n",
       "      <td>Normal</td>\n",
       "      <td>NaN</td>\n",
       "      <td>540</td>\n",
       "      <td>255</td>\n",
       "      <td>10</td>\n",
       "      <td>10</td>\n",
       "      <td>75</td>\n",
       "      <td>135</td>\n",
       "      <td>55</td>\n",
       "      <td>190.0</td>\n",
       "    </tr>\n",
       "    <tr>\n",
       "      <th>333</th>\n",
       "      <td>306</td>\n",
       "      <td>AggronMega Aggron</td>\n",
       "      <td>Steel</td>\n",
       "      <td>NaN</td>\n",
       "      <td>630</td>\n",
       "      <td>70</td>\n",
       "      <td>140</td>\n",
       "      <td>230</td>\n",
       "      <td>60</td>\n",
       "      <td>80</td>\n",
       "      <td>50</td>\n",
       "      <td>155.0</td>\n",
       "    </tr>\n",
       "    <tr>\n",
       "      <th>224</th>\n",
       "      <td>208</td>\n",
       "      <td>SteelixMega Steelix</td>\n",
       "      <td>Steel</td>\n",
       "      <td>Ground</td>\n",
       "      <td>610</td>\n",
       "      <td>75</td>\n",
       "      <td>125</td>\n",
       "      <td>230</td>\n",
       "      <td>55</td>\n",
       "      <td>95</td>\n",
       "      <td>30</td>\n",
       "      <td>145.0</td>\n",
       "    </tr>\n",
       "    <tr>\n",
       "      <th>...</th>\n",
       "      <td>...</td>\n",
       "      <td>...</td>\n",
       "      <td>...</td>\n",
       "      <td>...</td>\n",
       "      <td>...</td>\n",
       "      <td>...</td>\n",
       "      <td>...</td>\n",
       "      <td>...</td>\n",
       "      <td>...</td>\n",
       "      <td>...</td>\n",
       "      <td>...</td>\n",
       "      <td>...</td>\n",
       "    </tr>\n",
       "    <tr>\n",
       "      <th>143</th>\n",
       "      <td>132</td>\n",
       "      <td>Ditto</td>\n",
       "      <td>Normal</td>\n",
       "      <td>NaN</td>\n",
       "      <td>288</td>\n",
       "      <td>48</td>\n",
       "      <td>48</td>\n",
       "      <td>48</td>\n",
       "      <td>48</td>\n",
       "      <td>48</td>\n",
       "      <td>48</td>\n",
       "      <td>0.0</td>\n",
       "    </tr>\n",
       "    <tr>\n",
       "      <th>165</th>\n",
       "      <td>151</td>\n",
       "      <td>Mew</td>\n",
       "      <td>Psychic</td>\n",
       "      <td>NaN</td>\n",
       "      <td>600</td>\n",
       "      <td>100</td>\n",
       "      <td>100</td>\n",
       "      <td>100</td>\n",
       "      <td>100</td>\n",
       "      <td>100</td>\n",
       "      <td>100</td>\n",
       "      <td>0.0</td>\n",
       "    </tr>\n",
       "    <tr>\n",
       "      <th>255</th>\n",
       "      <td>236</td>\n",
       "      <td>Tyrogue</td>\n",
       "      <td>Fighting</td>\n",
       "      <td>NaN</td>\n",
       "      <td>210</td>\n",
       "      <td>35</td>\n",
       "      <td>35</td>\n",
       "      <td>35</td>\n",
       "      <td>35</td>\n",
       "      <td>35</td>\n",
       "      <td>35</td>\n",
       "      <td>0.0</td>\n",
       "    </tr>\n",
       "    <tr>\n",
       "      <th>206</th>\n",
       "      <td>191</td>\n",
       "      <td>Sunkern</td>\n",
       "      <td>Grass</td>\n",
       "      <td>NaN</td>\n",
       "      <td>180</td>\n",
       "      <td>30</td>\n",
       "      <td>30</td>\n",
       "      <td>30</td>\n",
       "      <td>30</td>\n",
       "      <td>30</td>\n",
       "      <td>30</td>\n",
       "      <td>0.0</td>\n",
       "    </tr>\n",
       "    <tr>\n",
       "      <th>271</th>\n",
       "      <td>251</td>\n",
       "      <td>Celebi</td>\n",
       "      <td>Psychic</td>\n",
       "      <td>Grass</td>\n",
       "      <td>600</td>\n",
       "      <td>100</td>\n",
       "      <td>100</td>\n",
       "      <td>100</td>\n",
       "      <td>100</td>\n",
       "      <td>100</td>\n",
       "      <td>100</td>\n",
       "      <td>0.0</td>\n",
       "    </tr>\n",
       "  </tbody>\n",
       "</table>\n",
       "<p>800 rows × 12 columns</p>\n",
       "</div>"
      ],
      "text/plain": [
       "       #                 Name    Type 1  Type 2  Total   HP  Attack  Defense  \\\n",
       "230  213              Shuckle       Bug    Rock    505   20      10      230   \n",
       "121  113              Chansey    Normal     NaN    450  250       5        5   \n",
       "261  242              Blissey    Normal     NaN    540  255      10       10   \n",
       "333  306    AggronMega Aggron     Steel     NaN    630   70     140      230   \n",
       "224  208  SteelixMega Steelix     Steel  Ground    610   75     125      230   \n",
       "..   ...                  ...       ...     ...    ...  ...     ...      ...   \n",
       "143  132                Ditto    Normal     NaN    288   48      48       48   \n",
       "165  151                  Mew   Psychic     NaN    600  100     100      100   \n",
       "255  236              Tyrogue  Fighting     NaN    210   35      35       35   \n",
       "206  191              Sunkern     Grass     NaN    180   30      30       30   \n",
       "271  251               Celebi   Psychic   Grass    600  100     100      100   \n",
       "\n",
       "     Sp. Atk  Sp. Def  Speed  Deviation  \n",
       "230       10      230      5      215.0  \n",
       "121       35      105     50      207.5  \n",
       "261       75      135     55      190.0  \n",
       "333       60       80     50      155.0  \n",
       "224       55       95     30      145.0  \n",
       "..       ...      ...    ...        ...  \n",
       "143       48       48     48        0.0  \n",
       "165      100      100    100        0.0  \n",
       "255       35       35     35        0.0  \n",
       "206       30       30     30        0.0  \n",
       "271      100      100    100        0.0  \n",
       "\n",
       "[800 rows x 12 columns]"
      ]
     },
     "execution_count": 78,
     "metadata": {},
     "output_type": "execute_result"
    }
   ],
   "source": [
    "# 2.5.1\n",
    "df = pandas.read_csv(\"./data/pokemon.csv\")\n",
    "pandas.set_option(\"display.max_rows\", 50)\n",
    "pandas.set_option(\"display.max_columns\", 50)\n",
    "# print(df.head())\n",
    "# 1. check the sum of Hp, Attack, Defense Sp.Attack Sp.Defense Speed is Total\n",
    "print(\"1.1:\", (df.iloc[:, 5:].sum(axis=1, ) == df['Total']).all())\n",
    "# 2. For those # duplicate, only remain the first one\n",
    "# 2.a Find the unique type 1 number\n",
    "print(f\"2.a.1: Unique Type 1 {df['Type 1'].unique()}\")\n",
    "# 2.a Most 3 type 1 \n",
    "print(f\"2.a.2: Top3 Unique Type 1 {df['Type 1'].value_counts().index[:3]}\")\n",
    "# 2.b Find Type 1 and Type 2 Combination\n",
    "print(f\"2.b: Type1 and Type2 Combination {df.drop_duplicates(['Type 1', 'Type 2']).shape[0]}\")\n",
    "# 2.c Find Unseeable combination\n",
    "full_comb = [i+\" \"+j if i!=j else i for i in df['Type 1'].unique() for j in df['Type 1'].unique()]\n",
    "part_comb = [i+\" \"+j if not isinstance(j, float) else i for i, j in zip(df['Type 1'], df['Type 2'])]\n",
    "diff = set(full_comb).difference(set(part_comb))\n",
    "print(f\"2.c: {len(diff)}\")\n",
    "\n",
    "# 3.a Extract Attack higher than 120, lower 50, 50, else mid\n",
    "series = pandas.Series(df['Attack'].mask(df['Attack'] > 120, 'high').mask(df['Attack'] < 50, 'low').mask(\n",
    "    (50 <= df['Attack']) & (df['Attack'] <= 120), 'mid'))\n",
    "\n",
    "# 3.b Extract Type 1, replace and apply the all to upper case\n",
    "series = pandas.Series(df['Type 1'].replace({i: str.upper(i) for i in df['Type 1'].unique()}))\n",
    "series = pandas.Series(df['Type 1'].apply(lambda x: str.upper(x)))\n",
    "\n",
    "\n",
    "# 3.c Find 6 attribute std, \n",
    "df['Deviation'] = pandas.Series(df[['HP', 'Attack', 'Defense', 'Sp. Atk', 'Sp. Def', 'Speed']].apply(lambda x: np.max((x - x.median()).abs()), 1))\n",
    "df.sort_values(\"Deviation\", ascending=False)"
   ]
  },
  {
   "cell_type": "code",
   "execution_count": 79,
   "metadata": {},
   "outputs": [
    {
     "data": {
      "text/plain": [
       "0   -1\n",
       "1   -1\n",
       "2   -2\n",
       "3   -2\n",
       "4   -2\n",
       "dtype: int64"
      ]
     },
     "execution_count": 79,
     "metadata": {},
     "output_type": "execute_result"
    }
   ],
   "source": [
    "# Exercise 2\n",
    "np.random.seed(0)\n",
    "s = pandas.Series(np.random.randint(-1, 2, 30).cumsum())\n",
    "s.head()"
   ]
  },
  {
   "cell_type": "code",
   "execution_count": null,
   "metadata": {},
   "outputs": [],
   "source": []
  }
 ],
 "metadata": {
  "interpreter": {
   "hash": "60294056b8f815b80b0581dc59f6047319bd3c1342d45a1f48b0c937a0336417"
  },
  "kernelspec": {
   "display_name": "Python 3.9.7 ('research': conda)",
   "language": "python",
   "name": "python3"
  },
  "language_info": {
   "codemirror_mode": {
    "name": "ipython",
    "version": 3
   },
   "file_extension": ".py",
   "mimetype": "text/x-python",
   "name": "python",
   "nbconvert_exporter": "python",
   "pygments_lexer": "ipython3",
   "version": "3.9.7"
  },
  "orig_nbformat": 4
 },
 "nbformat": 4,
 "nbformat_minor": 2
}
