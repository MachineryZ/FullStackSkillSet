{
 "cells": [
  {
   "cell_type": "markdown",
   "metadata": {},
   "source": [
    "Joyfull Pandas"
   ]
  },
  {
   "cell_type": "code",
   "execution_count": 2,
   "metadata": {},
   "outputs": [],
   "source": [
    "import pandas\n",
    "import numpy as np"
   ]
  },
  {
   "cell_type": "code",
   "execution_count": 4,
   "metadata": {},
   "outputs": [
    {
     "name": "stdout",
     "output_type": "stream",
     "text": [
      "True\n"
     ]
    }
   ],
   "source": [
    "# Matrix Multiplication\n",
    "# 1.3.1\n",
    "a, b, c = 10, 10, 10\n",
    "M1 = np.random.randn(a, b)\n",
    "M2 = np.random.randn(b, c)\n",
    "\n",
    "res = [[sum([M1[i][k] * M2[k][j] for k in range(M1.shape[1])]) for j in range(M2.shape[1])] for i in range(M1.shape[0])]\n",
    "print((np.abs(M1@M2 - res) < 1e-15).all())"
   ]
  },
  {
   "cell_type": "code",
   "execution_count": 12,
   "metadata": {},
   "outputs": [
    {
     "name": "stdout",
     "output_type": "stream",
     "text": [
      "[[0.16666667 0.33333333 0.5       ]\n",
      " [0.26666667 0.33333333 0.4       ]\n",
      " [0.26086957 0.34782609 0.39130435]]\n",
      "True\n"
     ]
    }
   ],
   "source": [
    "# 1.3.2\n",
    "# Update Matrix\n",
    "A = np.array([\n",
    "    [1, 2, 3],\n",
    "    [4, 5, 6],\n",
    "    [6, 8, 9]\n",
    "])\n",
    "# B_ij = Aij / sum(Aik)\n",
    "B_gt = np.array([\n",
    "    [1/6, 2/6, 3/6],\n",
    "    [4/15, 5/15, 6/15],\n",
    "    [6/23, 8/23, 9/23]\n",
    "])\n",
    "B = A/np.sum(A,axis=1,keepdims=True)\n",
    "print((np.abs(B - B_gt) < 1e-15).all())"
   ]
  },
  {
   "cell_type": "code",
   "execution_count": 24,
   "metadata": {},
   "outputs": [
    {
     "name": "stdout",
     "output_type": "stream",
     "text": [
      "11.842696601945802\n"
     ]
    }
   ],
   "source": [
    "# 1.3.3\n",
    "# ChiSquare statiscts\n",
    "np.random.seed(0)\n",
    "A = np.random.randint(10, 20, (8, 5))\n",
    "B = np.sum(A, axis=0, keepdims=True) * np.sum(A, axis=1, keepdims=True)/np.sum(A)\n",
    "print(np.sum((A - B)**2/B))\n",
    "np.random.seed(None)    "
   ]
  },
  {
   "cell_type": "code",
   "execution_count": 27,
   "metadata": {},
   "outputs": [
    {
     "name": "stdout",
     "output_type": "stream",
     "text": [
      "15.9 ms ± 210 µs per loop (mean ± std. dev. of 7 runs, 30 loops each)\n",
      "167 µs ± 4.59 µs per loop (mean ± std. dev. of 7 runs, 30 loops each)\n"
     ]
    }
   ],
   "source": [
    "# 1.3.4\n",
    "# Optimize Matrix Computation\n",
    "np.random.seed(0)\n",
    "m, n, p = 100, 80, 50\n",
    "B = np.random.randint(0, 2, (m, p))\n",
    "U = np.random.randint(0, 2, (p, n))\n",
    "Z = np.random.randint(0, 2, (m, n))\n",
    "def solution(B=B, U=U, Z=Z):\n",
    "    L_res = []\n",
    "    for i in range(m):\n",
    "        for j in range(n):\n",
    "            norm_value = ((B[i]-U[:,j])**2).sum()\n",
    "            L_res.append(norm_value*Z[i][j])\n",
    "    return sum(L_res)\n",
    "%timeit -n 30 solution(B, U, Z)\n",
    "def solution(B=B, U=U, Z=Z):\n",
    "    return (((B**2).sum(1).reshape(-1,1) + (U**2).sum(0) - 2*B@U)*Z).sum()\n",
    "%timeit -n 30 solution(B, U, Z)"
   ]
  },
  {
   "cell_type": "code",
   "execution_count": 10,
   "metadata": {},
   "outputs": [],
   "source": [
    "# 1.3.5\n",
    "# Longest Continuous Increasing subArray\n",
    "a = np.array([3, 2, 1, 2, 3, 4, 6])\n",
    "# Use np.diff to calculate the diff:\n",
    "dif = np.r_[1, np.diff(a)!=1, 1]\n",
    "# select nonzero part (cotinuous integer part) using index\n",
    "nonzero = np.nonzero(dif)\n",
    "# select maximum part\n",
    "ret = np.diff(nonzero).max()\n",
    "# print(dif)\n",
    "# print(nonzero)\n",
    "# print(ret)"
   ]
  },
  {
   "cell_type": "markdown",
   "metadata": {},
   "source": [
    "Exercise 2"
   ]
  },
  {
   "cell_type": "code",
   "execution_count": 74,
   "metadata": {},
   "outputs": [
    {
     "name": "stdout",
     "output_type": "stream",
     "text": [
      "1.1: True\n",
      "2.a.1: Unique Type 1 ['Grass' 'Fire' 'Water' 'Bug' 'Normal' 'Poison' 'Electric' 'Ground'\n",
      " 'Fairy' 'Fighting' 'Psychic' 'Rock' 'Ghost' 'Ice' 'Dragon' 'Dark' 'Steel'\n",
      " 'Flying']\n",
      "2.a.2: Top3 Unique Type 1 Index(['Water', 'Normal', 'Grass'], dtype='object')\n",
      "2.b: Type1 and Type2 Combination 154\n",
      "2.c: 170\n",
      "0        GRASS\n",
      "1        GRASS\n",
      "2        GRASS\n",
      "3        GRASS\n",
      "4         FIRE\n",
      "        ...   \n",
      "795       ROCK\n",
      "796       ROCK\n",
      "797    PSYCHIC\n",
      "798    PSYCHIC\n",
      "799       FIRE\n",
      "Name: Type 1, Length: 800, dtype: object\n"
     ]
    }
   ],
   "source": [
    "# 2.5.1\n",
    "df = pandas.read_csv(\"./data/pokemon.csv\")\n",
    "pandas.set_option(\"display.max_rows\", 50)\n",
    "pandas.set_option(\"display.max_columns\", 50)\n",
    "# print(df.head())\n",
    "# 1. check the sum of Hp, Attack, Defense Sp.Attack Sp.Defense Speed is Total\n",
    "print(\"1.1:\", (df.iloc[:, 5:].sum(axis=1, ) == df['Total']).all())\n",
    "# 2. For those # duplicate, only remain the first one\n",
    "# 2.a Find the unique type 1 number\n",
    "print(f\"2.a.1: Unique Type 1 {df['Type 1'].unique()}\")\n",
    "# 2.a Most 3 type 1 \n",
    "print(f\"2.a.2: Top3 Unique Type 1 {df['Type 1'].value_counts().index[:3]}\")\n",
    "# 2.b Find Type 1 and Type 2 Combination\n",
    "print(f\"2.b: Type1 and Type2 Combination {df.drop_duplicates(['Type 1', 'Type 2']).shape[0]}\")\n",
    "# 2.c Find Unseeable combination\n",
    "full_comb = [i+\" \"+j if i!=j else i for i in df['Type 1'].unique() for j in df['Type 1'].unique()]\n",
    "part_comb = [i+\" \"+j if not isinstance(j, float) else i for i, j in zip(df['Type 1'], df['Type 2'])]\n",
    "diff = set(full_comb).difference(set(part_comb))\n",
    "print(f\"2.c: {len(diff)}\")\n",
    "\n",
    "# 3.a Extract Attack higher than 120, lower 50, 50, else mid\n",
    "series = pandas.Series(df['Attack'].mask(df['Attack'] > 120, 'high').mask(df['Attack'] < 50, 'low').mask(\n",
    "    (50 <= df['Attack']) & (df['Attack'] <= 120), 'mid'))\n",
    "\n",
    "# 3.b Extract Type 1, replace and apply the all to upper case\n",
    "series = pandas.Series(df['Type 1'].replace({i: str.upper(i) for i in df['Type 1'].unique()}))\n",
    "series = pandas.Series(df['Type 1'].apply(lambda x: str.upper(x)))\n",
    "# "
   ]
  },
  {
   "cell_type": "code",
   "execution_count": 64,
   "metadata": {},
   "outputs": [
    {
     "data": {
      "text/plain": [
       "['a',\n",
       " 'b',\n",
       " 'c',\n",
       " 'd',\n",
       " 'e',\n",
       " 'f',\n",
       " 'g',\n",
       " 'h',\n",
       " 'i',\n",
       " 'j',\n",
       " 'k',\n",
       " 'l',\n",
       " 'm',\n",
       " 'n',\n",
       " 'o',\n",
       " 'p',\n",
       " 'q',\n",
       " 'r',\n",
       " 's',\n",
       " 't',\n",
       " 'u',\n",
       " 'v',\n",
       " 'w',\n",
       " 'x',\n",
       " 'y',\n",
       " 'z']"
      ]
     },
     "execution_count": 64,
     "metadata": {},
     "output_type": "execute_result"
    }
   ],
   "source": []
  },
  {
   "cell_type": "code",
   "execution_count": null,
   "metadata": {},
   "outputs": [],
   "source": []
  }
 ],
 "metadata": {
  "interpreter": {
   "hash": "60294056b8f815b80b0581dc59f6047319bd3c1342d45a1f48b0c937a0336417"
  },
  "kernelspec": {
   "display_name": "Python 3.9.7 ('research': conda)",
   "language": "python",
   "name": "python3"
  },
  "language_info": {
   "codemirror_mode": {
    "name": "ipython",
    "version": 3
   },
   "file_extension": ".py",
   "mimetype": "text/x-python",
   "name": "python",
   "nbconvert_exporter": "python",
   "pygments_lexer": "ipython3",
   "version": "3.9.7"
  },
  "orig_nbformat": 4
 },
 "nbformat": 4,
 "nbformat_minor": 2
}
